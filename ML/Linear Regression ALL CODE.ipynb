{
 "cells": [
  {
   "cell_type": "code",
   "execution_count": 2,
   "id": "b5a26429-cd86-4db6-a409-ca04d7ab2209",
   "metadata": {},
   "outputs": [
    {
     "name": "stdout",
     "output_type": "stream",
     "text": [
      "x_data.ndim =  2 , x_data.shape =  (25, 3)\n",
      "t_data.ndim =  2 , t_data.shape =  (25, 1)\n"
     ]
    }
   ],
   "source": [
    "import numpy as np\n",
    "#데이터 가져오기\n",
    "loaded_data = np.loadtxt('./data-01-test-score.csv', delimiter=',', dtype=np.float32)\n",
    "\n",
    "x_data = loaded_data[ :, 0:-1]\n",
    "t_data = loaded_data[ :, [-1]]\n",
    "\n",
    "# 데이터 차원 및 shape 확인\n",
    "print(\"x_data.ndim = \", x_data.ndim, \", x_data.shape = \", x_data.shape)\n",
    "print(\"t_data.ndim = \", t_data.ndim, \", t_data.shape = \", t_data.shape) "
   ]
  },
  {
   "cell_type": "code",
   "execution_count": 13,
   "id": "c26308ed-270e-444b-8b86-e871b270ea1e",
   "metadata": {},
   "outputs": [
    {
     "name": "stdout",
     "output_type": "stream",
     "text": [
      "W =  [[0.45303291]\n",
      " [0.60244002]\n",
      " [0.34127966]] , W.shape =  (3, 1) , b =  [0.52588524] , b.shape =  (1,)\n"
     ]
    }
   ],
   "source": [
    "W = np.random.rand(3,1)  # 3X1 행렬\n",
    "b = np.random.rand(1)  \n",
    "print(\"W = \", W, \", W.shape = \", W.shape, \", b = \", b, \", b.shape = \", b.shape)"
   ]
  },
  {
   "cell_type": "code",
   "execution_count": 4,
   "id": "0a9a04fd-4366-436b-b412-be7dfa009b12",
   "metadata": {},
   "outputs": [],
   "source": [
    "def loss_func(x, t):\n",
    "    y = np.dot(x,W) + b\n",
    "    \n",
    "    return ( np.sum( (t - y)**2 ) ) / ( len(x) )"
   ]
  },
  {
   "cell_type": "code",
   "execution_count": 5,
   "id": "57782f7c-2303-4004-8654-835bbc407633",
   "metadata": {},
   "outputs": [],
   "source": [
    "def numerical_derivative(f, x):\n",
    "    delta_x = 1e-4 # 0.0001\n",
    "    grad = np.zeros_like(x)\n",
    "    \n",
    "    it = np.nditer(x, flags=['multi_index'], op_flags=['readwrite'])\n",
    "    \n",
    "    while not it.finished:\n",
    "        idx = it.multi_index        \n",
    "        tmp_val = x[idx]\n",
    "        x[idx] = float(tmp_val) + delta_x\n",
    "        fx1 = f(x) # f(x+delta_x)\n",
    "        \n",
    "        x[idx] = tmp_val - delta_x \n",
    "        fx2 = f(x) # f(x-delta_x)\n",
    "        grad[idx] = (fx1 - fx2) / (2*delta_x)\n",
    "        \n",
    "        x[idx] = tmp_val \n",
    "        it.iternext()   \n",
    "        \n",
    "    return grad"
   ]
  },
  {
   "cell_type": "code",
   "execution_count": 6,
   "id": "d619efdb-bf46-4293-ad43-707c314f44a2",
   "metadata": {},
   "outputs": [],
   "source": [
    "# 손실함수 값 계산 함수\n",
    "# 입력변수 x, t : numpy type\n",
    "def error_val(x, t):\n",
    "    y = np.dot(x,W) + b\n",
    "    \n",
    "    return ( np.sum( (t - y)**2 ) ) / ( len(x) )\n",
    "\n",
    "# 학습을 마친 후, 임의의 데이터에 대해 미래 값 예측 함수\n",
    "# 입력변수 x : numpy type\n",
    "def predict(x):\n",
    "    y = np.dot(x,W) + b\n",
    "    \n",
    "    return y"
   ]
  },
  {
   "cell_type": "code",
   "execution_count": 7,
   "id": "306ff381-680d-4719-aa97-fc4109702e5b",
   "metadata": {},
   "outputs": [
    {
     "name": "stdout",
     "output_type": "stream",
     "text": [
      "Initial error value =  3633.713079764695 Initial W =  [[0.66113631]\n",
      " [0.15238668]\n",
      " [0.45735755]] \n",
      " , b =  [0.87742641]\n",
      "step =  0 error value =  1351.6136421317879 W =  [[0.75715156]\n",
      " [0.2490719 ]\n",
      " [0.5564304 ]] , b =  [0.87815007]\n",
      "step =  400 error value =  11.517862335045466 W =  [[0.85333743]\n",
      " [0.40061573]\n",
      " [0.75991527]] , b =  [0.87893892]\n",
      "step =  800 error value =  10.470394453972418 W =  [[0.80549295]\n",
      " [0.4037606 ]\n",
      " [0.80334491]] , b =  [0.87854739]\n",
      "step =  1200 error value =  9.641176246081633 W =  [[0.76228704]\n",
      " [0.40806667]\n",
      " [0.84113239]] , b =  [0.87810669]\n",
      "step =  1600 error value =  8.982135927704448 W =  [[0.72326419]\n",
      " [0.41318559]\n",
      " [0.8740607 ]] , b =  [0.87762313]\n",
      "step =  2000 error value =  8.456464166970093 W =  [[0.68801456]\n",
      " [0.4188409 ]\n",
      " [0.90279825]] , b =  [0.87710217]\n",
      "step =  2400 error value =  8.035809487485311 W =  [[0.65616923]\n",
      " [0.4248149 ]\n",
      " [0.92791627]] , b =  [0.8765485]\n",
      "step =  2800 error value =  7.698210499550071 W =  [[0.62739602]\n",
      " [0.43093774]\n",
      " [0.94990352]] , b =  [0.8759662]\n",
      "step =  3200 error value =  7.426563011017449 W =  [[0.60139569]\n",
      " [0.43707847]\n",
      " [0.96917874]] , b =  [0.87535882]\n",
      "step =  3600 error value =  7.207477146545878 W =  [[0.57789863]\n",
      " [0.44313761]\n",
      " [0.98610112]] , b =  [0.8747294]\n",
      "step =  4000 error value =  7.030420207259823 W =  [[0.55666181]\n",
      " [0.44904109]\n",
      " [1.00097922]] , b =  [0.87408062]\n",
      "step =  4400 error value =  6.887069952822725 W =  [[0.53746612]\n",
      " [0.45473521]\n",
      " [1.01407841]] , b =  [0.87341481]\n",
      "step =  4800 error value =  6.770823682066446 W =  [[0.52011398]\n",
      " [0.46018255]\n",
      " [1.02562728]] , b =  [0.87273398]\n",
      "step =  5200 error value =  6.676423323540175 W =  [[0.50442715]\n",
      " [0.46535856]\n",
      " [1.035823  ]] , b =  [0.8720399]\n",
      "step =  5600 error value =  6.599667416573174 W =  [[0.49024481]\n",
      " [0.47024889]\n",
      " [1.04483587]] , b =  [0.87133412]\n",
      "step =  6000 error value =  6.537188563918138 W =  [[0.47742184]\n",
      " [0.47484707]\n",
      " [1.05281325]] , b =  [0.87061799]\n",
      "step =  6400 error value =  6.486280516620874 W =  [[0.46582724]\n",
      " [0.47915273]\n",
      " [1.05988277]] , b =  [0.86989271]\n",
      "step =  6800 error value =  6.444763111947705 W =  [[0.45534277]\n",
      " [0.48317014]\n",
      " [1.06615519]] , b =  [0.86915931]\n",
      "step =  7200 error value =  6.410876253448538 W =  [[0.44586165]\n",
      " [0.48690698]\n",
      " [1.07172676]] , b =  [0.86841871]\n",
      "step =  7600 error value =  6.383196303053919 W =  [[0.43728744]\n",
      " [0.49037344]\n",
      " [1.07668123]] , b =  [0.86767173]\n",
      "step =  8000 error value =  6.360569865861413 W =  [[0.42953306]\n",
      " [0.4935814 ]\n",
      " [1.08109162]] , b =  [0.86691907]\n",
      "step =  8400 error value =  6.342061144622187 W =  [[0.42251982]\n",
      " [0.49654388]\n",
      " [1.08502167]] , b =  [0.86616137]\n",
      "step =  8800 error value =  6.326909934649446 W =  [[0.41617666]\n",
      " [0.49927455]\n",
      " [1.08852708]] , b =  [0.86539918]\n",
      "step =  9200 error value =  6.314498001480959 W =  [[0.41043934]\n",
      " [0.50178735]\n",
      " [1.09165664]] , b =  [0.864633]\n",
      "step =  9600 error value =  6.304322091390142 W =  [[0.40524984]\n",
      " [0.50409622]\n",
      " [1.09445314]] , b =  [0.86386327]\n",
      "step =  10000 error value =  6.295972211058345 W =  [[0.4005557 ]\n",
      " [0.50621487]\n",
      " [1.09695412]] , b =  [0.86309037]\n"
     ]
    }
   ],
   "source": [
    "learning_rate = 1e-5  # 1e-2, 1e-3 은 손실함수 값 발산\n",
    "\n",
    "f = lambda x : loss_func(x_data,t_data)\n",
    "\n",
    "print(\"Initial error value = \", error_val(x_data, t_data), \"Initial W = \", W, \"\\n\", \", b = \", b )\n",
    "\n",
    "for step in  range(10001):  \n",
    "    \n",
    "    W -= learning_rate * numerical_derivative(f, W)\n",
    "    \n",
    "    b -= learning_rate * numerical_derivative(f, b)\n",
    "    \n",
    "    if (step % 400 == 0):\n",
    "        print(\"step = \", step, \"error value = \", error_val(x_data, t_data), \"W = \", W, \", b = \",b )"
   ]
  },
  {
   "cell_type": "code",
   "execution_count": 8,
   "id": "252de838-3809-4b66-9c75-7cb849d4e54d",
   "metadata": {},
   "outputs": [
    {
     "data": {
      "text/plain": [
       "array([179.38100177])"
      ]
     },
     "execution_count": 8,
     "metadata": {},
     "output_type": "execute_result"
    }
   ],
   "source": [
    "test_data = np.array([100, 98, 81])\n",
    "\n",
    "predict(test_data) "
   ]
  },
  {
   "cell_type": "code",
   "execution_count": null,
   "id": "7095da06-3642-4615-a824-22de237fad77",
   "metadata": {},
   "outputs": [],
   "source": []
  },
  {
   "cell_type": "code",
   "execution_count": null,
   "id": "3032fc17-9d0f-42d2-b7e6-f192bdb7d1ec",
   "metadata": {},
   "outputs": [],
   "source": []
  },
  {
   "cell_type": "code",
   "execution_count": null,
   "id": "9f1f37fd-e83e-484f-9e73-ef8fd7687567",
   "metadata": {},
   "outputs": [],
   "source": []
  },
  {
   "cell_type": "code",
   "execution_count": null,
   "id": "a9ff0b0d-1f17-4794-8707-06b151f4b187",
   "metadata": {},
   "outputs": [],
   "source": []
  },
  {
   "cell_type": "code",
   "execution_count": null,
   "id": "fc87e124-5c06-4f7a-9c85-7c19cd613aa2",
   "metadata": {},
   "outputs": [],
   "source": []
  },
  {
   "cell_type": "code",
   "execution_count": null,
   "id": "cf78dda5-8383-49ee-b08b-455c88a4683c",
   "metadata": {},
   "outputs": [],
   "source": []
  }
 ],
 "metadata": {
  "kernelspec": {
   "display_name": "Python_DL",
   "language": "python",
   "name": "dl"
  },
  "language_info": {
   "codemirror_mode": {
    "name": "ipython",
    "version": 3
   },
   "file_extension": ".py",
   "mimetype": "text/x-python",
   "name": "python",
   "nbconvert_exporter": "python",
   "pygments_lexer": "ipython3",
   "version": "3.9.20"
  }
 },
 "nbformat": 4,
 "nbformat_minor": 5
}
