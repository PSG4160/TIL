{
 "cells": [
  {
   "cell_type": "markdown",
   "id": "a22da6d2-b1de-4e69-9f7f-e5efffd1a6f6",
   "metadata": {},
   "source": [
    "# 파이토치 텐서 개념정리"
   ]
  },
  {
   "cell_type": "markdown",
   "id": "92c0071e-8c52-4067-9a50-b3d188c07966",
   "metadata": {},
   "source": [
    "## 1. 텐서 개요\n",
    "\n",
    "- 일반적으로 1차원 데이터를 벡터, 2차원 데이터를 행렬(matrix), 3차원 데이터를 텐서라고 말한다. 하지만 파이토치에서 이런 차원에 관계없이 입출력 그리고 모든 데이터를 텐서 데이터 타입으로 정의해서 처리한다. \n",
    "딥러닝에서 학습 파라미터인 W와 b에 대한 미분을 파이토치에서 자동으로 해 주는 기능이 최적화 되어있음."
   ]
  },
  {
   "cell_type": "code",
   "execution_count": 1,
   "id": "88a47e30-ebf0-405d-81fc-bd1c5e641bb9",
   "metadata": {},
   "outputs": [],
   "source": [
    "import torch\n",
    "import numpy as np"
   ]
  },
  {
   "cell_type": "markdown",
   "id": "d340fd1f-2f1e-4ea9-8880-9e467dcb406c",
   "metadata": {},
   "source": [
    "### 1.1 리스트 형식의 데이터를 텐서로 직접 만들 수 있다."
   ]
  },
  {
   "cell_type": "code",
   "execution_count": 8,
   "id": "13e35e04-58b8-4551-bcf3-ad32a51a136e",
   "metadata": {},
   "outputs": [
    {
     "name": "stdout",
     "output_type": "stream",
     "text": [
      "tensor([[1., 1.],\n",
      "        [2., 2.]])\n",
      "tensor type : <class 'torch.Tensor'>, tensor shape: torch.Size([2, 2])\n",
      "tensor dtype : torch.float32, tensor device : cpu\n"
     ]
    }
   ],
   "source": [
    "list_data = [[1,1],[2,2]]\n",
    "\n",
    "tensor_1 = torch.Tensor(list_data)\n",
    "\n",
    "print(tensor_1)\n",
    "print(f\"tensor type : {type(tensor_1)}, tensor shape: {tensor_1.shape}\")\n",
    "print(f\"tensor dtype : {tensor_1.dtype}, tensor device : {tensor_1.device}\")"
   ]
  },
  {
   "cell_type": "code",
   "execution_count": 7,
   "id": "8207239c-1960-4886-a512-59aedd81b571",
   "metadata": {},
   "outputs": [
    {
     "name": "stdout",
     "output_type": "stream",
     "text": [
      "tensor type : <class 'torch.Tensor'>, tensor shape: torch.Size([2, 2])\n",
      "tensor dtype : torch.float32, tensor device : cuda:0\n"
     ]
    }
   ],
   "source": [
    "if torch.cuda.is_available():\n",
    "    tensor_1 = tensor_1.to(\"cuda\")\n",
    "# .to(\"cuda\") 메소드를 이용해서 텐서를 GPU로 이동시키기\n",
    "\n",
    "print(f\"tensor type : {type(tensor_1)}, tensor shape: {tensor_1.shape}\")\n",
    "print(f\"tensor dtype : {tensor_1.dtype}, tensor device : {tensor_1.device}\")"
   ]
  },
  {
   "cell_type": "markdown",
   "id": "3d353265-ee95-4d0c-b957-6f9a1e9f5b87",
   "metadata": {},
   "source": [
    "### 1.2 numpy 데이터로부터 텐서 생성     \n",
    "리스트와 달리 정수형(int)로 변환된 것을 알 수 있다."
   ]
  },
  {
   "cell_type": "code",
   "execution_count": 16,
   "id": "9dbc8b21-5ebc-4dd3-8895-7f1377379272",
   "metadata": {},
   "outputs": [
    {
     "name": "stdout",
     "output_type": "stream",
     "text": [
      "tensor([[1, 1],\n",
      "        [2, 2]], dtype=torch.int32)\n",
      "tensor type : <class 'torch.Tensor'>, tensor shape : torch.Size([2, 2])\n",
      "tensor dtype : torch.int32, tensor device : cpu\n"
     ]
    }
   ],
   "source": [
    "numpy_data = np.array(list_data)\n",
    "\n",
    "tensor2_1 = torch.from_numpy(numpy_data) # 넘파이 데이터로부터 텐서 만들기\n",
    "\n",
    "print(tensor2_1)\n",
    "print(f\"tensor type : {type(tensor2_1)}, tensor shape : {tensor2_1.shape}\")\n",
    "print(f\"tensor dtype : {tensor2_1.dtype}, tensor device : {tensor2_1.device}\")"
   ]
  },
  {
   "cell_type": "markdown",
   "id": "c58cb566-490b-4bd5-95fa-9aafc5c7022b",
   "metadata": {},
   "source": [
    "딥러닝에서는 기본 데이터타입이 실수(float)이므로 type casting을 해서 float() 해주는 것이 필요하다."
   ]
  },
  {
   "cell_type": "code",
   "execution_count": 17,
   "id": "de013da2-be4c-40b9-8624-7e3e9d2b35e1",
   "metadata": {},
   "outputs": [
    {
     "name": "stdout",
     "output_type": "stream",
     "text": [
      "tensor([[1., 1.],\n",
      "        [2., 2.]])\n",
      "tensor type : <class 'torch.Tensor'>, tensor shape : torch.Size([2, 2])\n",
      "tensor dtype : torch.float32, tensor device : cpu\n"
     ]
    }
   ],
   "source": [
    "tensor2_2 = torch.from_numpy(numpy_data).float() # 실수형 -> 정수형으로 \n",
    "\n",
    "print(tensor2_2)\n",
    "print(f\"tensor type : {type(tensor2_2)}, tensor shape : {tensor2_2.shape}\")\n",
    "print(f\"tensor dtype : {tensor2_2.dtype}, tensor device : {tensor2_2.device}\")"
   ]
  },
  {
   "cell_type": "markdown",
   "id": "3f63a7a6-39ed-493e-b84c-e6abb597969b",
   "metadata": {},
   "source": [
    "### 1.3 random데이터로부터 텐서 생성 -> numpy로 바꾸기"
   ]
  },
  {
   "cell_type": "code",
   "execution_count": 19,
   "id": "83c5f941-c887-4d3b-a2c5-58712fa6186c",
   "metadata": {},
   "outputs": [
    {
     "name": "stdout",
     "output_type": "stream",
     "text": [
      "tensor([[0.4952, 0.5712, 0.6845],\n",
      "        [0.3435, 0.5821, 0.2674]])\n",
      "tensor([[-1.4153, -1.0185],\n",
      "        [-0.4283,  0.9513]])\n"
     ]
    }
   ],
   "source": [
    "tensor3 = torch.rand(2,3)  # rand() 매소드는 0~1 사이의 균일한 분포의 random 값을 생성한다.\n",
    "print(tensor3)\n",
    "\n",
    "tensor4 = torch.randn(2,2) # randn() 매소드는 평균 0, 분산 1 인 정규분포 random 값을 생성한다.\n",
    "# 딥러닝에서 가중치와 바이어스등을 초기화 할 때 많이 사용된다.\n",
    "print(tensor4)"
   ]
  },
  {
   "cell_type": "code",
   "execution_count": 20,
   "id": "051ff500-ccf2-4d6e-9ade-92886414cd77",
   "metadata": {},
   "outputs": [
    {
     "name": "stdout",
     "output_type": "stream",
     "text": [
      "tensor([[ 2.1022,  0.6033],\n",
      "        [ 1.3188, -0.9308]])\n",
      "[[ 2.1022055   0.60325843]\n",
      " [ 1.3187758  -0.9308399 ]]\n"
     ]
    }
   ],
   "source": [
    "tensor5 = torch.randn(2,2)\n",
    "print(tensor5)\n",
    "# 텐서를 numpy로 바꾸기\n",
    "numpy_from_tensor = tensor5.numpy()\n",
    "print(numpy_from_tensor)"
   ]
  },
  {
   "cell_type": "markdown",
   "id": "937be33c-d0bc-4068-834d-d2880818624f",
   "metadata": {},
   "source": [
    "## 2. 파이토치 텐서 연산"
   ]
  },
  {
   "cell_type": "markdown",
   "id": "3cf7c803-c6a5-4df0-80e5-e1c095a1fe9e",
   "metadata": {},
   "source": [
    "| tensor6 |       |       |       | tensor7 |       |       |       |\n",
    "| ------- | ----- | ----- | ----- | ------- | ----- | ----- | ----- |\n",
    "|         |   1   |   2   |   3   |         |   7   |   8   |   9   |\n",
    "|         |   4   |   5   |   6   |         |  10   |  11   |  12   |\n"
   ]
  },
  {
   "cell_type": "markdown",
   "id": "527d8d08-530e-4cfb-99fc-9e4aa8acd079",
   "metadata": {},
   "source": [
    "### 2.1 텐서 슬라이싱, 인덱싱"
   ]
  },
  {
   "cell_type": "code",
   "execution_count": 21,
   "id": "edcf9f7d-aab7-4557-b01c-cbf02bcc94b5",
   "metadata": {},
   "outputs": [
    {
     "name": "stdout",
     "output_type": "stream",
     "text": [
      "tensor([1., 2., 3.])\n",
      "tensor([[2., 3.],\n",
      "        [5., 6.]])\n",
      "tensor([[ 7.,  8.],\n",
      "        [10., 11.]])\n",
      "tensor(12.)\n",
      "tensor([ 8., 11.])\n"
     ]
    }
   ],
   "source": [
    "tensor6 = torch.Tensor([[1,2,3], [4,5,6]])\n",
    "tensor7 = torch.Tensor([[7,8,9], [10,11,12]])\n",
    "\n",
    "print(tensor6[0]) # 텐서6의 첫번째 행의 모든 데이터\n",
    "print(tensor6[:,1:]) # 텐서6의 모든 행의 데이터와, 두번째 열 이후의 데이터와의 교집합\n",
    "print(tensor7[0:2, 0:-1]) # 텐서7의 첫째 행부터 두번째 행까지의 데이터와, 첫번째 열 부터 두번째 열 까지의 데이터와의 교집합\n",
    "print(tensor7[-1,-1]) # 텐서7의 두번째 행과 마지막 열의 교집합\n",
    "print(tensor7[..., -2]) # 텐서 7의 모든 행 데이터와 두번째 열의 데이터와의 교집합\n"
   ]
  },
  {
   "cell_type": "markdown",
   "id": "5c29d6eb-5e2b-4e55-9e92-a19d00d9ba8d",
   "metadata": {},
   "source": [
    "### 2.2 텐서 연산"
   ]
  },
  {
   "cell_type": "code",
   "execution_count": 30,
   "id": "6a0425ec-ea1b-4d32-9002-2e0336fb5aec",
   "metadata": {},
   "outputs": [
    {
     "data": {
      "text/plain": [
       "tensor([[ 7., 16., 27.],\n",
       "        [40., 55., 72.]])"
      ]
     },
     "execution_count": 30,
     "metadata": {},
     "output_type": "execute_result"
    }
   ],
   "source": [
    "tensor8 = tensor6.mul(tensor7) # tensor8 = tensor6 * tensor7\n",
    "tensor8"
   ]
  },
  {
   "cell_type": "markdown",
   "id": "c5b1b95d-e5f1-419f-868e-5e030ef77270",
   "metadata": {},
   "source": [
    "matrix multiplication (matmul) 계산은 앞 텐서의 열과 뒤 텐서의 행을 맞춰줘야 한다."
   ]
  },
  {
   "cell_type": "code",
   "execution_count": 25,
   "id": "baf32a9e-ff5f-4e46-8c1d-45eab77447fa",
   "metadata": {},
   "outputs": [
    {
     "ename": "RuntimeError",
     "evalue": "mat1 and mat2 shapes cannot be multiplied (2x3 and 2x3)",
     "output_type": "error",
     "traceback": [
      "\u001b[1;31m---------------------------------------------------------------------------\u001b[0m",
      "\u001b[1;31mRuntimeError\u001b[0m                              Traceback (most recent call last)",
      "Cell \u001b[1;32mIn[25], line 1\u001b[0m\n\u001b[1;32m----> 1\u001b[0m tensor9 \u001b[38;5;241m=\u001b[39m \u001b[43mtensor6\u001b[49m\u001b[38;5;241;43m.\u001b[39;49m\u001b[43mmatmul\u001b[49m\u001b[43m(\u001b[49m\u001b[43mtensor7\u001b[49m\u001b[43m)\u001b[49m \u001b[38;5;66;03m# tensor6 @ tensor7 \u001b[39;00m\n",
      "\u001b[1;31mRuntimeError\u001b[0m: mat1 and mat2 shapes cannot be multiplied (2x3 and 2x3)"
     ]
    }
   ],
   "source": [
    "tensor9 = tensor6.matmul(tensor7) # tensor6 @ tensor7 "
   ]
  },
  {
   "cell_type": "code",
   "execution_count": 31,
   "id": "5df9e41e-bf28-41fa-a684-edcaa162a012",
   "metadata": {},
   "outputs": [
    {
     "data": {
      "text/plain": [
       "tensor([[ 58.,  64.],\n",
       "        [139., 154.]])"
      ]
     },
     "execution_count": 31,
     "metadata": {},
     "output_type": "execute_result"
    }
   ],
   "source": [
    "tensor9 = tensor6.matmul(tensor7.view(3,2)) # tensor6 @ tensor7.view(3,2) \n",
    "tensor9\n",
    "# tensor 7을 (3,2)형태로 맞춘 후 계산해야 한다."
   ]
  },
  {
   "cell_type": "markdown",
   "id": "05263e06-1c1e-4dbc-87ea-c4a832139e06",
   "metadata": {},
   "source": [
    "### 2.3 텐서 합치기"
   ]
  },
  {
   "cell_type": "code",
   "execution_count": 34,
   "id": "f4426cff-d4c7-483f-8526-2d77e4df1615",
   "metadata": {},
   "outputs": [
    {
     "name": "stdout",
     "output_type": "stream",
     "text": [
      "tensor([[ 1.,  2.,  3.],\n",
      "        [ 4.,  5.,  6.],\n",
      "        [ 7.,  8.,  9.],\n",
      "        [10., 11., 12.]])\n"
     ]
    }
   ],
   "source": [
    "tensor_cat = torch.cat([tensor6, tensor7]) # 열을 기준으로(세로로) 합침 dim = 0\n",
    "print(tensor_cat)"
   ]
  },
  {
   "cell_type": "code",
   "execution_count": 36,
   "id": "bcd6fd47-e4d2-4e88-8e5e-c046317ca308",
   "metadata": {},
   "outputs": [
    {
     "name": "stdout",
     "output_type": "stream",
     "text": [
      "tensor([[ 1.,  2.,  3.,  7.,  8.,  9.],\n",
      "        [ 4.,  5.,  6., 10., 11., 12.]])\n"
     ]
    }
   ],
   "source": [
    "tensor_cat_dim1 = torch.cat([tensor6, tensor7], dim=1) # dim=1 이면 행을 기준으로(가로로) 합침\n",
    "print(tensor_cat_dim1)"
   ]
  },
  {
   "cell_type": "code",
   "execution_count": null,
   "id": "c39bdff2-8e37-4562-b1cc-f161d9a2c698",
   "metadata": {},
   "outputs": [],
   "source": []
  },
  {
   "cell_type": "code",
   "execution_count": null,
   "id": "8d7b1074-3379-4643-a566-669a675596f9",
   "metadata": {},
   "outputs": [],
   "source": []
  },
  {
   "cell_type": "code",
   "execution_count": null,
   "id": "15580a95-3ebf-4248-9890-74a683c6e6f8",
   "metadata": {},
   "outputs": [],
   "source": []
  },
  {
   "cell_type": "code",
   "execution_count": null,
   "id": "5a0661c5-cfdc-40fd-b2bc-df81982248ee",
   "metadata": {},
   "outputs": [],
   "source": []
  },
  {
   "cell_type": "code",
   "execution_count": null,
   "id": "df1795fe-5949-4936-81b2-e0cc81f56aeb",
   "metadata": {},
   "outputs": [],
   "source": []
  },
  {
   "cell_type": "code",
   "execution_count": null,
   "id": "f55ca8a7-0f70-45cf-904e-7e93dd93bb25",
   "metadata": {},
   "outputs": [],
   "source": []
  },
  {
   "cell_type": "code",
   "execution_count": null,
   "id": "c66fe25f-561f-4ea5-be29-a45baef88ff0",
   "metadata": {},
   "outputs": [],
   "source": []
  },
  {
   "cell_type": "code",
   "execution_count": null,
   "id": "3bda7bce-7299-42d4-9b9d-1b3a32cba7b5",
   "metadata": {},
   "outputs": [],
   "source": []
  },
  {
   "cell_type": "code",
   "execution_count": null,
   "id": "6230e01b-98f2-4446-959e-221e994ff2aa",
   "metadata": {},
   "outputs": [],
   "source": []
  }
 ],
 "metadata": {
  "kernelspec": {
   "display_name": "Python_DL",
   "language": "python",
   "name": "dl"
  },
  "language_info": {
   "codemirror_mode": {
    "name": "ipython",
    "version": 3
   },
   "file_extension": ".py",
   "mimetype": "text/x-python",
   "name": "python",
   "nbconvert_exporter": "python",
   "pygments_lexer": "ipython3",
   "version": "3.9.20"
  }
 },
 "nbformat": 4,
 "nbformat_minor": 5
}
